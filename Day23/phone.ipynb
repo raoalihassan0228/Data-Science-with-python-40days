{
 "cells": [
  {
   "cell_type": "code",
   "execution_count": 1,
   "metadata": {},
   "outputs": [],
   "source": [
    "#pip install phonenumbers"
   ]
  },
  {
   "cell_type": "code",
   "execution_count": 4,
   "metadata": {},
   "outputs": [
    {
     "name": "stdout",
     "output_type": "stream",
     "text": [
      "Country Code: 92 National Number: 3464927547 Country Code Source: 1\n",
      "('Asia/Karachi',)\n",
      "Telenor\n",
      "Pakistan\n"
     ]
    }
   ],
   "source": [
    "import phonenumbers\n",
    "from phonenumbers import timezone, geocoder, carrier\n",
    "number = input(\"Enter number eith +__: \")\n",
    "phone = phonenumbers.parse(number, 'PK', 'IN')\n",
    "time = timezone.time_zones_for_number(phone)\n",
    "car = carrier.name_for_number(phone, \"en\")\n",
    "reg = geocoder.description_for_number(phone, \"en\")\n",
    "\n",
    "print(phone)\n",
    "print(time)\n",
    "print(car)\n",
    "print(reg)"
   ]
  }
 ],
 "metadata": {
  "kernelspec": {
   "display_name": "Python 3",
   "language": "python",
   "name": "python3"
  },
  "language_info": {
   "codemirror_mode": {
    "name": "ipython",
    "version": 3
   },
   "file_extension": ".py",
   "mimetype": "text/x-python",
   "name": "python",
   "nbconvert_exporter": "python",
   "pygments_lexer": "ipython3",
   "version": "3.11.4"
  },
  "orig_nbformat": 4
 },
 "nbformat": 4,
 "nbformat_minor": 2
}
