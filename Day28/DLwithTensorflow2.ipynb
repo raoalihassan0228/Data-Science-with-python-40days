{
 "cells": [
  {
   "cell_type": "code",
   "execution_count": 2,
   "metadata": {},
   "outputs": [
    {
     "data": {
      "text/plain": [
       "'2.13.0'"
      ]
     },
     "execution_count": 2,
     "metadata": {},
     "output_type": "execute_result"
    }
   ],
   "source": [
    "import tensorflow as tf\n",
    "tf.__version__"
   ]
  },
  {
   "cell_type": "code",
   "execution_count": 3,
   "metadata": {},
   "outputs": [],
   "source": [
    "#load the Fashion MNIST dataset\n",
    "fmnist = tf.keras.datasets.fashion_mnist"
   ]
  },
  {
   "cell_type": "code",
   "execution_count": 4,
   "metadata": {},
   "outputs": [],
   "source": [
    "# Load the training and test split of the fashion dataset\n",
    "(training_images, training_labels), (test_images, test_lables) = fmnist.load_data()"
   ]
  },
  {
   "cell_type": "code",
   "execution_count": 5,
   "metadata": {},
   "outputs": [
    {
     "name": "stdout",
     "output_type": "stream",
     "text": [
      "LABEL: 9\n",
      "\n",
      "IMAGE PIXEL ARRAY: \n",
      " [[  0   0   0   0   0   0   0   0   0   0   0   0   0   0   0   0   0   0   0   0   0   0   0   0   0   0   0   0]\n",
      " [  0   0   0   0   0   0   0   0   0   0   0   0   0   0   0   0   0   0   0   0   0   0   0   0   0   0   0   0]\n",
      " [  0   0   0   0   0   0   0   0   0   0   0   0   0   0   0   0   0   0   0   0   0   0   0   0   0   0   0   0]\n",
      " [  0   0   0   0   0   0   0   0   0   1   5   0   0  70  71  84  81  73  38   7   0   0  27  36  39   4   0   1]\n",
      " [  0   0   0   0   0   0   0   0   0   0   4   0  44 223 180 209 200 183 165 183 148 175 207 183 193 115   0   4]\n",
      " [  0   0   0   0   0   0   0   0   0   0   4   0  72 177 169 180 183 180 186 203 193 190 175 171 179 147   0   0]\n",
      " [  0   0   0   0   0   0   0   0   0   0   6   0 109 174 169 175 176 179 170 187 192 201 195 184 181 176   0   0]\n",
      " [  0   0   0   0   0   0   0   0   0   3   0   0 170 177 172 177 181 175 185 192 188 175 180 181 183 179   0   0]\n",
      " [  0   0   0   0   0   0   0   0   0   3   0   9 189 170 172 177 182 181 182 186 186 186 166 167 168 204  34   0]\n",
      " [  0   0   0   0   0   0   0   0   0   5   0  62 196 168 175 176 182 177 189 197 191 183 182 187 180 189 133   0]\n",
      " [  0   0   0   0   0   0   0   0   0   4   0 106 172 168 175 176 181 176 183 193 175 200 174 170 180 179 186   0]\n",
      " [  0   0   0   0   0   0   0   0   0   0   0 149 172 174 175 177 182 172 177 186 174 169 196 219 206 183 206  43]\n",
      " [  0   0   0   0   0   0   0   0   3   0  18 180 168 175 177 178 178 179 182 194 210 234 204 171 155 159 193  70]\n",
      " [  0   0   0   0   1   1   0   0   3   0  88 192 167 175 176 176 178 177 171 185 173 167 175 181 185 179 186 119]\n",
      " [  0   0   0   0   0   0   0   0   0   0 151 173 171 175 176 176 176 173 179 187 192 205 178 170 167 162 179 137]\n",
      " [  0   0   0   1   1   0   0   4   0  37 176 162 169 172 177 176 175 175 171 180 177 183 188 185 182 185 212 136]\n",
      " [  1   0   0   1   1   0   2   0   0 128 174 173 178 180 177 176 174 175 185 193 184 189 184 185 211 208 210 100]\n",
      " [  0   0   0   0   1   1   9   0  51 173 168 173 178 178 183 181 179 181 152 164 200 181 163 209 229 195 214  80]\n",
      " [  0   0   2   3   2   0   0  33 159 159 167 174 176 177 177 176 177 145 192 255 117 173 248 217 211 189 215  63]\n",
      " [  0   2   0   0   0   4  79 152 155 165 174 177 177 175 181 174 162 203 221  30   0 192 222 197 209 189 213  35]\n",
      " [  0   0  21  76 111 134 138 140 146 162 171 178 179 180 166 164 219 165   0   0   0 205 214 200 206 185 215  28]\n",
      " [  0  59 164 135 137  85  72 135 153 154 168 172 184 165 166 218 128   0   0   0   0 205 211 202 205 188 207  15]\n",
      " [  0 127 154 154 152 154 125 150 170 169 173 183 168 170 218  83   0   0   0   0   0 207 210 200 199 188 208   8]\n",
      " [ 49 195 193 177 167 167 163 152 151 161 160 163 184 217  69   0   0   8   0   0   0 173 204 194 191 184 195   0]\n",
      " [  0  45 156 180 200 201 234 230 223 216 216 237 221  43   0   0   2   4   0   0   0 242 217 205 204 197 222   0]\n",
      " [  0   0   0   0  10  44  66  93 116 128 104  57   0   0   0   1   0   4   0   0   0  82  83  84  96  90  84   0]\n",
      " [  0   0   0   0   0   0   0   0   0   0   0   0   0   0   0   0   0   0   0   0   0   0   0   0   0   0   0   0]\n",
      " [  0   0   0   0   0   0   0   0   0   0   0   0   0   0   0   0   0   0   0   0   0   0   0   0   0   0   0   0]]\n"
     ]
    },
    {
     "data": {
      "text/plain": [
       "<matplotlib.image.AxesImage at 0x256545efdf0>"
      ]
     },
     "execution_count": 5,
     "metadata": {},
     "output_type": "execute_result"
    },
    {
     "data": {
      "image/png": "[encoded data removed]",
      "text/plain": [
       "<Figure size 640x480 with 1 Axes>"
      ]
     },
     "metadata": {},
     "output_type": "display_data"
    }
   ],
   "source": [
    "import numpy as np\n",
    "import matplotlib.pyplot as plt\n",
    "\n",
    "# we can put b/w 0-59999 here\n",
    "index = 4560\n",
    "\n",
    "# set number of characters per row when printing\n",
    "np.set_printoptions(linewidth=320)\n",
    "\n",
    "# print the label and image\n",
    "print(f'LABEL: {training_labels[index]}')\n",
    "print(f'\\nIMAGE PIXEL ARRAY: \\n {training_images[index]}')\n",
    "\n",
    "# visualize the image\n",
    "plt.imshow(training_images[index])"
   ]
  },
  {
   "cell_type": "code",
   "execution_count": 6,
   "metadata": {},
   "outputs": [],
   "source": [
    "# Normalize the pixel values of train and test images (0-1) range\n",
    "training_images = training_images / 255.0\n",
    "test_images = test_images / 255.0"
   ]
  },
  {
   "cell_type": "code",
   "execution_count": 7,
   "metadata": {},
   "outputs": [],
   "source": [
    "# Build the classification model\n",
    "model = tf.keras.models.Sequential([tf.keras.layers.Flatten(),\n",
    "                                    tf.keras.layers.Dense(128, activation=tf.nn.relu),\n",
    "                                    tf.keras.layers.Dense(10, activation=tf.nn.softmax)])"
   ]
  },
  {
   "cell_type": "code",
   "execution_count": 8,
   "metadata": {},
   "outputs": [
    {
     "name": "stdout",
     "output_type": "stream",
     "text": [
      "Input to softmax function: [[1. 3. 4. 2.]]\n",
      "Output of softmax function: [[0.0320586  0.23688282 0.64391426 0.08714432]]\n",
      "Sum of outputs: 1.0\n",
      "Class with highest probability: 2\n"
     ]
    }
   ],
   "source": [
    "# Declare sample inputs and conveert to a tensor\n",
    "inputs = np.array([[1.0,3.0,4.0,2.0]])\n",
    "inputs = tf.convert_to_tensor(inputs)\n",
    "print(f'Input to softmax function: {inputs.numpy()}')\n",
    "\n",
    "# Feed the inputs to a softmax activation function\n",
    "outputs = tf.keras.activations.softmax(inputs)\n",
    "print(f'Output of softmax function: {outputs.numpy()}')\n",
    "\n",
    "# Get the sumof all the values after the softmax\n",
    "sum = tf.reduce_sum(outputs)\n",
    "print(f'Sum of outputs: {sum}')\n",
    "\n",
    "# Get the index with highest value\n",
    "prediction = np.argmax(outputs)\n",
    "print(f'Class with highest probability: {prediction}')"
   ]
  },
  {
   "cell_type": "code",
   "execution_count": 12,
   "metadata": {},
   "outputs": [
    {
     "name": "stdout",
     "output_type": "stream",
     "text": [
      "Epoch 1/5\n",
      "1875/1875 [==============================] - 8s 4ms/step - loss: 0.5051 - accuracy: 0.8217\n",
      "Epoch 2/5\n",
      "1875/1875 [==============================] - 6s 3ms/step - loss: 0.3763 - accuracy: 0.8649\n",
      "Epoch 3/5\n",
      "1875/1875 [==============================] - 6s 3ms/step - loss: 0.3393 - accuracy: 0.8752\n",
      "Epoch 4/5\n",
      "1875/1875 [==============================] - 6s 3ms/step - loss: 0.3146 - accuracy: 0.8843\n",
      "Epoch 5/5\n",
      "1875/1875 [==============================] - 6s 3ms/step - loss: 0.2953 - accuracy: 0.8909\n"
     ]
    },
    {
     "data": {
      "text/plain": [
       "<keras.src.callbacks.History at 0x256000067c0>"
      ]
     },
     "execution_count": 12,
     "metadata": {},
     "output_type": "execute_result"
    }
   ],
   "source": [
    "model.compile(optimizer = tf.optimizers.Adam(),\n",
    "              loss = 'sparse_categorical_crossentropy',\n",
    "              metrics=['accuracy'])\n",
    "\n",
    "model.fit(training_images, training_labels, epochs = 5)"
   ]
  },
  {
   "cell_type": "code",
   "execution_count": 13,
   "metadata": {},
   "outputs": [
    {
     "name": "stdout",
     "output_type": "stream",
     "text": [
      "313/313 [==============================] - 1s 2ms/step - loss: 0.3659 - accuracy: 0.8679\n"
     ]
    },
    {
     "data": {
      "text/plain": [
       "[0.36590713262557983, 0.867900013923645]"
      ]
     },
     "execution_count": 13,
     "metadata": {},
     "output_type": "execute_result"
    }
   ],
   "source": [
    "# Evaluate the model on unseen data\n",
    "model.evaluate(test_images, test_lables)"
   ]
  }
 ],
 "metadata": {
  "kernelspec": {
   "display_name": "base",
   "language": "python",
   "name": "python3"
  },
  "language_info": {
   "codemirror_mode": {
    "name": "ipython",
    "version": 3
   },
   "file_extension": ".py",
   "mimetype": "text/x-python",
   "name": "python",
   "nbconvert_exporter": "python",
   "pygments_lexer": "ipython3",
   "version": "3.9.17"
  },
  "orig_nbformat": 4
 },
 "nbformat": 4,
 "nbformat_minor": 2
}
