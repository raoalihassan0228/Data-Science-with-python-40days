{
 "cells": [
  {
   "cell_type": "markdown",
   "metadata": {},
   "source": [
    "# Best Model Selection"
   ]
  },
  {
   "cell_type": "code",
   "execution_count": 2,
   "metadata": {},
   "outputs": [
    {
     "name": "stdout",
     "output_type": "stream",
     "text": [
      "Accuracy score:  Logistic Regression : 0.81\n",
      "Accuracy score:  Random Forest : 0.79\n",
      "Accuracy score:  Decision Tree : 0.77\n",
      "Accuracy score:  KNN : 0.69\n",
      "Accuracy score:  SVM : 0.66\n"
     ]
    }
   ],
   "source": [
    "# import libraries\n",
    "import pandas as pd\n",
    "import numpy as np\n",
    "import seaborn as sns\n",
    "import matplotlib.pyplot as plt\n",
    "\n",
    "df=sns.load_dataset('titanic')  #loading dataset\n",
    "X=df[['pclass','sex','age','sibsp','parch','fare']]  #define X \n",
    "y=df['survived'] #define y\n",
    "X = pd.get_dummies(X, columns=['sex'])  #label encoding\n",
    "X.age.fillna(X['age'].mean(), inplace=True)  #fill missing value\n",
    "\n",
    "\n",
    "from sklearn.linear_model import LogisticRegression #Logistic Regression is a type of supervised learning algorithm used for classification\n",
    "from sklearn.svm import SVC\n",
    "from sklearn.tree import DecisionTreeClassifier\n",
    "from sklearn.ensemble import RandomForestClassifier\n",
    "from sklearn.neighbors import KNeighborsClassifier\n",
    "from sklearn.metrics import accuracy_score, precision_score, recall_score, f1_score\n",
    "from sklearn.model_selection import train_test_split\n",
    "\n",
    "# features stored in X and labels in y\n",
    "X_train, X_test, y_train, y_test = train_test_split(X, y, test_size=0.2, random_state=42)\n",
    "\n",
    "# Accuracy score\n",
    "models= [LogisticRegression(), SVC(), DecisionTreeClassifier(), RandomForestClassifier(), KNeighborsClassifier()]\n",
    "model_names = ['Logistic Regression', 'SVM','Decision Tree', 'Random Forest','KNN']\n",
    "\n",
    "models_scores=[]\n",
    "for model, model_name in zip(models, model_names):\n",
    "    model.fit(X_train, y_train)\n",
    "    y_pred = model.predict(X_test)\n",
    "    accuracy = accuracy_score(y_test, y_pred)\n",
    "    models_scores.append([model_name, accuracy])\n",
    "\n",
    "sorted_models= sorted(models_scores, key=lambda x: x[1], reverse=True) #minimal coding (code simplifying)\n",
    "for model in sorted_models:\n",
    "    print('Accuracy score: ', f'{model[0]} : {model[1]:.2f}')"
   ]
  },
  {
   "cell_type": "code",
   "execution_count": 10,
   "metadata": {},
   "outputs": [
    {
     "name": "stdout",
     "output_type": "stream",
     "text": [
      "Precision score:  Logistic Regression : 0.80\n",
      "Precision score:  Random Forest : 0.79\n",
      "Precision score:  SVM : 0.76\n",
      "Precision score:  Decision Tree : 0.71\n",
      "Precision score:  KNN : 0.66\n"
     ]
    }
   ],
   "source": [
    "# precision score\n",
    "models= [LogisticRegression(), SVC(), DecisionTreeClassifier(), RandomForestClassifier(), KNeighborsClassifier()]\n",
    "model_names = ['Logistic Regression', 'SVM','Decision Tree', 'Random Forest','KNN']\n",
    "\n",
    "models_scores=[]\n",
    "for model, model_name in zip(models, model_names):\n",
    "    model.fit(X_train, y_train)\n",
    "    y_pred = model.predict(X_test)\n",
    "    Precision = precision_score(y_test, y_pred)\n",
    "    models_scores.append([model_name, Precision])\n",
    "\n",
    "sorted_models= sorted(models_scores, key=lambda x: x[1], reverse=True) #minimal coding (code simplifying)\n",
    "for model in sorted_models:\n",
    "    print('Precision score: ', f'{model[0]} : {model[1]:.2f}')"
   ]
  },
  {
   "cell_type": "code",
   "execution_count": 11,
   "metadata": {},
   "outputs": [
    {
     "name": "stdout",
     "output_type": "stream",
     "text": [
      "Recall score:  Logistic Regression : 0.72\n",
      "Recall score:  Random Forest : 0.72\n",
      "Recall score:  Decision Tree : 0.69\n",
      "Recall score:  KNN : 0.54\n",
      "Recall score:  SVM : 0.26\n"
     ]
    }
   ],
   "source": [
    "# Recall score\n",
    "models= [LogisticRegression(), SVC(), DecisionTreeClassifier(), RandomForestClassifier(), KNeighborsClassifier()]\n",
    "model_names = ['Logistic Regression', 'SVM','Decision Tree', 'Random Forest','KNN']\n",
    "\n",
    "models_scores=[]\n",
    "for model, model_name in zip(models, model_names):\n",
    "    model.fit(X_train, y_train)\n",
    "    y_pred = model.predict(X_test)\n",
    "    Recall = recall_score(y_test, y_pred)\n",
    "    models_scores.append([model_name, Recall])\n",
    "\n",
    "sorted_models= sorted(models_scores, key=lambda x: x[1], reverse=True) #minimal coding (code simplifying)\n",
    "for model in sorted_models:\n",
    "    print('Recall score: ', f'{model[0]} : {model[1]:.2f}')"
   ]
  },
  {
   "cell_type": "code",
   "execution_count": 12,
   "metadata": {},
   "outputs": [
    {
     "name": "stdout",
     "output_type": "stream",
     "text": [
      "F1 score:  Random Forest : 0.77\n",
      "F1 score:  Logistic Regression : 0.76\n",
      "F1 score:  Decision Tree : 0.71\n",
      "F1 score:  KNN : 0.59\n",
      "F1 score:  SVM : 0.38\n"
     ]
    }
   ],
   "source": [
    "# F1 Score\n",
    "models= [LogisticRegression(), SVC(), DecisionTreeClassifier(), RandomForestClassifier(), KNeighborsClassifier()]\n",
    "model_names = ['Logistic Regression', 'SVM','Decision Tree', 'Random Forest','KNN']\n",
    "\n",
    "models_scores=[]\n",
    "for model, model_name in zip(models, model_names):\n",
    "    model.fit(X_train, y_train)\n",
    "    y_pred = model.predict(X_test)\n",
    "    F1 = f1_score(y_test, y_pred)\n",
    "    models_scores.append([model_name, F1])\n",
    "\n",
    "sorted_models= sorted(models_scores, key=lambda x: x[1], reverse=True) #minimal coding (code simplifying)\n",
    "for model in sorted_models:\n",
    "    print('F1 score: ', f'{model[0]} : {model[1]:.2f}')"
   ]
  },
  {
   "cell_type": "markdown",
   "metadata": {},
   "source": [
    "---\n",
    "# July 15, 2023"
   ]
  }
 ],
 "metadata": {
  "kernelspec": {
   "display_name": "Python 3",
   "language": "python",
   "name": "python3"
  },
  "language_info": {
   "codemirror_mode": {
    "name": "ipython",
    "version": 3
   },
   "file_extension": ".py",
   "mimetype": "text/x-python",
   "name": "python",
   "nbconvert_exporter": "python",
   "pygments_lexer": "ipython3",
   "version": "3.11.4"
  },
  "orig_nbformat": 4
 },
 "nbformat": 4,
 "nbformat_minor": 2
}
